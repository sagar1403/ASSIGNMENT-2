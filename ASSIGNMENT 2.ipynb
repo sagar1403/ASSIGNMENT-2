{
 "cells": [
  {
   "cell_type": "markdown",
   "id": "d81406b9-3393-4c61-bc87-179a59415eb6",
   "metadata": {},
   "source": [
    "Q1. How do you comment code in Python? What are the different types of comments?"
   ]
  },
  {
   "cell_type": "markdown",
   "id": "381a10a3-f894-4d49-81c3-900d1802e8e2",
   "metadata": {},
   "source": [
    "Ans. we have used the comment syntax in python '#' or in multiple line we have selected all the rows and used ctrl+forward slash and also we have used \n",
    "the \"\"\"         \"\"\"\" in python for comment systax.\n"
   ]
  },
  {
   "cell_type": "markdown",
   "id": "834e5506-2985-4e34-99ec-cffd0a72d170",
   "metadata": {},
   "source": [
    "2.What are variables in Python? How do you declare and assign values to variables?"
   ]
  },
  {
   "cell_type": "markdown",
   "id": "a7705172-c846-4195-99d2-f910a02f1db0",
   "metadata": {},
   "source": [
    "ques. 2 varibles is containers for storing  the  data values.\n"
   ]
  },
  {
   "cell_type": "code",
   "execution_count": null,
   "id": "de75e00f-d84e-48ff-8fba-09c9ec5f5e1c",
   "metadata": {},
   "outputs": [],
   "source": [
    "a=2\n",
    "b=\"sagar\"\n",
    "c=2.5\n"
   ]
  },
  {
   "cell_type": "code",
   "execution_count": null,
   "id": "af8fdc4e-885b-4d43-b5e9-ddc8353cc0a7",
   "metadata": {},
   "outputs": [],
   "source": [
    "type(c)"
   ]
  },
  {
   "cell_type": "markdown",
   "id": "3fc7b895-8217-4039-b49e-7af64f28f53c",
   "metadata": {},
   "source": [
    "Q3. How do you convert one data type to another in Python?"
   ]
  },
  {
   "cell_type": "code",
   "execution_count": null,
   "id": "000a1f84-fcd6-4e57-92fe-213baa7fab8c",
   "metadata": {},
   "outputs": [],
   "source": [
    "a=\"345\"\n",
    "b=int(a)"
   ]
  },
  {
   "cell_type": "code",
   "execution_count": null,
   "id": "a8877a07-a12e-4ed5-92f5-da1fef276412",
   "metadata": {},
   "outputs": [],
   "source": [
    "b"
   ]
  },
  {
   "cell_type": "markdown",
   "id": "01dfe258-ac5f-4ec9-a0b6-febf971fb25a",
   "metadata": {},
   "source": [
    "5.Given a list my_list = [1, 2, 3, 4, 5], write the code to slice the list and obtain the sub-list [2, 3]."
   ]
  },
  {
   "cell_type": "code",
   "execution_count": null,
   "id": "eecba912-a964-4d60-bd6b-14ff3b0c12f0",
   "metadata": {},
   "outputs": [],
   "source": [
    "my_list=[1,2,3,4,5]\n",
    "my_list[1:3:1]\n",
    "\n",
    "\n",
    "    "
   ]
  },
  {
   "cell_type": "markdown",
   "id": "e2d589e8-7391-4e84-82af-791c24094b51",
   "metadata": {},
   "source": [
    "Q8. Declare a variable named price and assign the value 9.99 to it. What data type does this variable\n",
    "belong to?"
   ]
  },
  {
   "cell_type": "code",
   "execution_count": null,
   "id": "cdfe5ffd-2375-48e3-9a20-5d8d2a146097",
   "metadata": {},
   "outputs": [],
   "source": [
    "price=9.99\n",
    "type(price)"
   ]
  },
  {
   "cell_type": "markdown",
   "id": "a149fa4b-66d4-4b99-a99b-2a6dc8d2e933",
   "metadata": {},
   "source": [
    "Q9. Create a variable named name and assign your full name to it as a string. How would you print the\n",
    "value of this variable?"
   ]
  },
  {
   "cell_type": "code",
   "execution_count": null,
   "id": "212544b3-678a-414b-8ad9-18c26d1f7d90",
   "metadata": {},
   "outputs": [],
   "source": [
    "s=\"sagar mamgain\"\n",
    "print(s)"
   ]
  },
  {
   "cell_type": "markdown",
   "id": "8573e11d-9ded-4ffd-b071-f7bfa8667636",
   "metadata": {},
   "source": [
    "Q10. Given the string \"Hello, World!\", extract the substring \"World\"."
   ]
  },
  {
   "cell_type": "code",
   "execution_count": null,
   "id": "d20d0e91-d971-4488-81a1-f375fe2c6174",
   "metadata": {},
   "outputs": [],
   "source": [
    "string=\"HELLO WORLD\""
   ]
  },
  {
   "cell_type": "code",
   "execution_count": null,
   "id": "308a0672-10ab-431a-8df5-e0de28418f38",
   "metadata": {},
   "outputs": [],
   "source": [
    "string[6:11]"
   ]
  },
  {
   "cell_type": "markdown",
   "id": "23bc82d2-4282-4e84-9e71-4f0cb621c36c",
   "metadata": {},
   "source": [
    "11.Create a variable named \"is_student\" and assign it a boolean value indicating whether you are\n",
    "currently a student or not."
   ]
  },
  {
   "cell_type": "code",
   "execution_count": 7,
   "id": "ad7687b7-36f3-4cc2-8363-0eb5dddaa807",
   "metadata": {},
   "outputs": [
    {
     "name": "stdin",
     "output_type": "stream",
     "text": [
      " 0\n"
     ]
    },
    {
     "name": "stdout",
     "output_type": "stream",
     "text": [
      "you are not student\n"
     ]
    }
   ],
   "source": [
    "is_student=int(input())\n",
    "if is_student==True:\n",
    "    print(\"you are student\")\n",
    "elif is_student==False:\n",
    "    print(\"you are not student\")"
   ]
  },
  {
   "cell_type": "markdown",
   "id": "afa29b16-9684-4a0c-b09f-0cf28c5393ff",
   "metadata": {},
   "source": [
    "6.What is a complex number in mathematics, and how is it represented in Python?"
   ]
  },
  {
   "cell_type": "markdown",
   "id": "97732faa-9399-4e14-99f8-91c792059944",
   "metadata": {},
   "source": [
    "Ans.complex number is build by two number first part is real number and second part is imaginary number."
   ]
  },
  {
   "cell_type": "code",
   "execution_count": 9,
   "id": "19a40dda-ae1f-4364-a726-f56eca436169",
   "metadata": {},
   "outputs": [
    {
     "name": "stdout",
     "output_type": "stream",
     "text": [
      "this is complex number: (5+7j)\n"
     ]
    }
   ],
   "source": [
    "z=complex(5,7)\n",
    "print(\"this is complex number:\",z)"
   ]
  },
  {
   "cell_type": "markdown",
   "id": "c0900b90-bd7c-4060-97af-22764fa581d2",
   "metadata": {},
   "source": [
    "Q7. What is the correct way to declare a variable named age and assign the value 25 to it?"
   ]
  },
  {
   "cell_type": "code",
   "execution_count": 11,
   "id": "247c2621-de6f-443e-935c-b9627c3eb728",
   "metadata": {},
   "outputs": [
    {
     "name": "stdout",
     "output_type": "stream",
     "text": [
      "25 sagar\n"
     ]
    }
   ],
   "source": [
    "name=\"sagar\"\n",
    "age=25\n",
    "print(age,name)"
   ]
  },
  {
   "cell_type": "code",
   "execution_count": null,
   "id": "c77e89fe-f129-4ef3-83a6-f2e5bb83afd4",
   "metadata": {},
   "outputs": [],
   "source": []
  }
 ],
 "metadata": {
  "kernelspec": {
   "display_name": "Python 3 (ipykernel)",
   "language": "python",
   "name": "python3"
  },
  "language_info": {
   "codemirror_mode": {
    "name": "ipython",
    "version": 3
   },
   "file_extension": ".py",
   "mimetype": "text/x-python",
   "name": "python",
   "nbconvert_exporter": "python",
   "pygments_lexer": "ipython3",
   "version": "3.10.8"
  }
 },
 "nbformat": 4,
 "nbformat_minor": 5
}
